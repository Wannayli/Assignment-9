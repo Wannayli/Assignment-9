{
  "nbformat": 4,
  "nbformat_minor": 0,
  "metadata": {
    "colab": {
      "provenance": [],
      "authorship_tag": "ABX9TyN5ysCgVz/IJUO4zVkZj0n/",
      "include_colab_link": true
    },
    "kernelspec": {
      "name": "python3",
      "display_name": "Python 3"
    },
    "language_info": {
      "name": "python"
    }
  },
  "cells": [
    {
      "cell_type": "markdown",
      "metadata": {
        "id": "view-in-github",
        "colab_type": "text"
      },
      "source": [
        "<a href=\"https://colab.research.google.com/github/Wannayli/Assignment-9/blob/main/Exercise_Collaborative_Filtering.ipynb\" target=\"_parent\"><img src=\"https://colab.research.google.com/assets/colab-badge.svg\" alt=\"Open In Colab\"/></a>"
      ]
    },
    {
      "cell_type": "markdown",
      "source": [
        "Check the environment"
      ],
      "metadata": {
        "id": "sH305p8PRkGb"
      }
    },
    {
      "cell_type": "code",
      "source": [
        "!java --version\n",
        "!python --version"
      ],
      "metadata": {
        "colab": {
          "base_uri": "https://localhost:8080/"
        },
        "id": "W1NAtBWJR6SW",
        "outputId": "29464dd9-7af6-4146-ffc0-b93ac1ff3200"
      },
      "execution_count": null,
      "outputs": [
        {
          "output_type": "stream",
          "name": "stdout",
          "text": [
            "openjdk 11.0.18 2023-01-17\n",
            "OpenJDK Runtime Environment (build 11.0.18+10-post-Ubuntu-0ubuntu120.04.1)\n",
            "OpenJDK 64-Bit Server VM (build 11.0.18+10-post-Ubuntu-0ubuntu120.04.1, mixed mode, sharing)\n",
            "Python 3.9.16\n"
          ]
        }
      ]
    },
    {
      "cell_type": "markdown",
      "source": [
        "Installing Apache Spark (PySpark)"
      ],
      "metadata": {
        "id": "KN2XQySvSN6e"
      }
    },
    {
      "cell_type": "code",
      "source": [
        "!pip install pyspark"
      ],
      "metadata": {
        "colab": {
          "base_uri": "https://localhost:8080/"
        },
        "id": "Zx4wUb8cSCXq",
        "outputId": "066b8df0-c684-41ad-bea4-0c41fe00aadc"
      },
      "execution_count": null,
      "outputs": [
        {
          "output_type": "stream",
          "name": "stdout",
          "text": [
            "Looking in indexes: https://pypi.org/simple, https://us-python.pkg.dev/colab-wheels/public/simple/\n",
            "Collecting pyspark\n",
            "  Downloading pyspark-3.3.2.tar.gz (281.4 MB)\n",
            "\u001b[2K     \u001b[90m━━━━━━━━━━━━━━━━━━━━━━━━━━━━━━━━━━━━━━━\u001b[0m \u001b[32m281.4/281.4 MB\u001b[0m \u001b[31m4.8 MB/s\u001b[0m eta \u001b[36m0:00:00\u001b[0m\n",
            "\u001b[?25h  Preparing metadata (setup.py) ... \u001b[?25l\u001b[?25hdone\n",
            "Collecting py4j==0.10.9.5\n",
            "  Downloading py4j-0.10.9.5-py2.py3-none-any.whl (199 kB)\n",
            "\u001b[2K     \u001b[90m━━━━━━━━━━━━━━━━━━━━━━━━━━━━━━━━━━━━━━\u001b[0m \u001b[32m199.7/199.7 kB\u001b[0m \u001b[31m16.4 MB/s\u001b[0m eta \u001b[36m0:00:00\u001b[0m\n",
            "\u001b[?25hBuilding wheels for collected packages: pyspark\n",
            "  Building wheel for pyspark (setup.py) ... \u001b[?25l\u001b[?25hdone\n",
            "  Created wheel for pyspark: filename=pyspark-3.3.2-py2.py3-none-any.whl size=281824028 sha256=bc918938c72682e60ff54fc17cefb3f060d6b4652cc7ce943c1843f844187934\n",
            "  Stored in directory: /root/.cache/pip/wheels/6c/e3/9b/0525ce8a69478916513509d43693511463c6468db0de237c86\n",
            "Successfully built pyspark\n",
            "Installing collected packages: py4j, pyspark\n",
            "  Attempting uninstall: py4j\n",
            "    Found existing installation: py4j 0.10.9.7\n",
            "    Uninstalling py4j-0.10.9.7:\n",
            "      Successfully uninstalled py4j-0.10.9.7\n",
            "Successfully installed py4j-0.10.9.5 pyspark-3.3.2\n"
          ]
        }
      ]
    },
    {
      "cell_type": "markdown",
      "source": [
        "Initialize Apache Spark context"
      ],
      "metadata": {
        "id": "advS4N9oSVJS"
      }
    },
    {
      "cell_type": "code",
      "source": [
        "# Import Apache Spark SQL\n",
        "from pyspark.sql import SparkSession\n",
        "\n",
        "# Create Spark Session/Context\n",
        "# We are using local machine with all the CPU cores [*]\n",
        "spark = SparkSession.builder \\\n",
        "    .master(\"local[*]\") \\\n",
        "    .appName(\"Hello Pyspark\") \\\n",
        "    .config(\"spark.some.config.option\", \"some-value\") \\\n",
        "    .getOrCreate()"
      ],
      "metadata": {
        "id": "DBDAN-G_SWqN"
      },
      "execution_count": null,
      "outputs": []
    },
    {
      "cell_type": "code",
      "source": [
        "# Check spark session\n",
        "print(spark)"
      ],
      "metadata": {
        "colab": {
          "base_uri": "https://localhost:8080/"
        },
        "id": "2gAZBUagSoLT",
        "outputId": "75a63c50-38c3-44ef-bdbd-3a82ad7e6265"
      },
      "execution_count": null,
      "outputs": [
        {
          "output_type": "stream",
          "name": "stdout",
          "text": [
            "<pyspark.sql.session.SparkSession object at 0x7f9414f1b1c0>\n"
          ]
        }
      ]
    },
    {
      "cell_type": "markdown",
      "source": [
        "Collaborative Filtering Task"
      ],
      "metadata": {
        "id": "BjhiQ8U3SpNq"
      }
    },
    {
      "cell_type": "code",
      "source": [
        "from pyspark.ml.evaluation import RegressionEvaluator\n",
        "from pyspark.ml.recommendation import ALS\n",
        "from pyspark.sql import Row\n"
      ],
      "metadata": {
        "id": "7SmbdDCGS0dl"
      },
      "execution_count": null,
      "outputs": []
    },
    {
      "cell_type": "code",
      "source": [
        "!pip install wget"
      ],
      "metadata": {
        "colab": {
          "base_uri": "https://localhost:8080/"
        },
        "id": "VhP9G5u0TBs7",
        "outputId": "eafcf0fd-f3c6-4c7a-d003-5f6ec310eeb2"
      },
      "execution_count": null,
      "outputs": [
        {
          "output_type": "stream",
          "name": "stdout",
          "text": [
            "Looking in indexes: https://pypi.org/simple, https://us-python.pkg.dev/colab-wheels/public/simple/\n",
            "Collecting wget\n",
            "  Downloading wget-3.2.zip (10 kB)\n",
            "  Preparing metadata (setup.py) ... \u001b[?25l\u001b[?25hdone\n",
            "Building wheels for collected packages: wget\n",
            "  Building wheel for wget (setup.py) ... \u001b[?25l\u001b[?25hdone\n",
            "  Created wheel for wget: filename=wget-3.2-py3-none-any.whl size=9676 sha256=620c6182b8265dba031203df4e1a895e2e1057c6b9a3dd272febd954936dfc2d\n",
            "  Stored in directory: /root/.cache/pip/wheels/04/5f/3e/46cc37c5d698415694d83f607f833f83f0149e49b3af9d0f38\n",
            "Successfully built wget\n",
            "Installing collected packages: wget\n",
            "Successfully installed wget-3.2\n"
          ]
        }
      ]
    },
    {
      "cell_type": "markdown",
      "source": [
        "import wget - to download the file"
      ],
      "metadata": {
        "id": "I-ziKUrLU8bG"
      }
    },
    {
      "cell_type": "code",
      "source": [
        "import wget"
      ],
      "metadata": {
        "id": "hqqVy3kETGkw"
      },
      "execution_count": null,
      "outputs": []
    },
    {
      "cell_type": "code",
      "source": [
        "file = wget.download(\"https://raw.githubusercontent.com/apache/spark/master/data/mllib/als/sample_movielens_ratings.txt\")"
      ],
      "metadata": {
        "id": "BYuxajH5TR-E"
      },
      "execution_count": null,
      "outputs": []
    },
    {
      "cell_type": "code",
      "source": [
        "lines = spark.read.text(\"/content/sample_movielens_ratings.txt\").rdd\n",
        "parts = lines.map(lambda row: row.value.split(\"::\"))\n",
        "ratingsRDD = parts.map(lambda p: Row(userId=int(p[0]), movieId=int(p[1]),\n",
        "                                     rating=float(p[2]), timestamp=int(p[3])))\n",
        "ratings = spark.createDataFrame(ratingsRDD)\n",
        "(training, test) = ratings.randomSplit([0.8, 0.2])\n"
      ],
      "metadata": {
        "id": "QpJTRjmPTfqw"
      },
      "execution_count": null,
      "outputs": []
    },
    {
      "cell_type": "markdown",
      "source": [
        "Change the maxIter and regparam up to you for exampIe"
      ],
      "metadata": {
        "id": "-S93Ahaoa-XM"
      }
    },
    {
      "cell_type": "code",
      "source": [
        "# Build the recommendation model using ALS on the training data\n",
        "# Note we set cold start strategy to 'drop' to ensure we don't get NaN evaluation metrics\n",
        "als = ALS(maxIter=5, regParam=0.1, userCol=\"userId\", itemCol=\"movieId\", ratingCol=\"rating\",\n",
        "          coldStartStrategy=\"drop\")\n",
        "model = als.fit(training)"
      ],
      "metadata": {
        "id": "K08PvhCjTsdX"
      },
      "execution_count": null,
      "outputs": []
    },
    {
      "cell_type": "code",
      "source": [
        "# Evaluate the model by computing the RMSE on the test data\n",
        "predictions = model.transform(test)\n",
        "evaluator = RegressionEvaluator(metricName=\"rmse\", labelCol=\"rating\",\n",
        "                                predictionCol=\"prediction\")\n",
        "rmse = evaluator.evaluate(predictions)\n",
        "print(\"Root-mean-square error = \" + str(rmse))"
      ],
      "metadata": {
        "colab": {
          "base_uri": "https://localhost:8080/"
        },
        "id": "XZURwy0JT9vL",
        "outputId": "5b899165-0d4a-44b1-84b7-352f4cc2a02e"
      },
      "execution_count": null,
      "outputs": [
        {
          "output_type": "stream",
          "name": "stdout",
          "text": [
            "Root-mean-square error = 1.062598674054944\n"
          ]
        }
      ]
    },
    {
      "cell_type": "markdown",
      "source": [
        ".show() - is to show the recommendations"
      ],
      "metadata": {
        "id": "pbOLvRA0UwkU"
      }
    },
    {
      "cell_type": "code",
      "source": [
        "# Generate top 10 movie recommendations for each user\n",
        "userRecs = model.recommendForAllUsers(10).show()"
      ],
      "metadata": {
        "colab": {
          "base_uri": "https://localhost:8080/"
        },
        "id": "TUZcdpuFUb5X",
        "outputId": "fb90c110-a1d8-40c3-ed90-a9e8c477483e"
      },
      "execution_count": null,
      "outputs": [
        {
          "output_type": "stream",
          "name": "stdout",
          "text": [
            "+------+--------------------+\n",
            "|userId|     recommendations|\n",
            "+------+--------------------+\n",
            "|    20|[{75, 3.9864678},...|\n",
            "|    10|[{2, 3.8715858}, ...|\n",
            "|     0|[{62, 5.2895336},...|\n",
            "|     1|[{32, 5.1827693},...|\n",
            "|    21|[{29, 5.027496}, ...|\n",
            "|    11|[{52, 5.9091544},...|\n",
            "|    12|[{90, 5.9330916},...|\n",
            "|    22|[{88, 5.2587886},...|\n",
            "|     2|[{93, 5.2126493},...|\n",
            "|    13|[{93, 3.5651164},...|\n",
            "|     3|[{51, 4.882038}, ...|\n",
            "|    23|[{55, 5.1419315},...|\n",
            "|     4|[{92, 5.056689}, ...|\n",
            "|    24|[{30, 5.1313796},...|\n",
            "|    14|[{29, 5.134136}, ...|\n",
            "|     5|[{55, 4.5865602},...|\n",
            "|    15|[{77, 3.8668158},...|\n",
            "|    25|[{52, 4.1323156},...|\n",
            "|    26|[{51, 5.8584294},...|\n",
            "|     6|[{25, 4.426136}, ...|\n",
            "+------+--------------------+\n",
            "only showing top 20 rows\n",
            "\n"
          ]
        }
      ]
    },
    {
      "cell_type": "code",
      "source": [
        "# Generate top 10 user recommendations for each movie\n",
        "movieRecs = model.recommendForAllItems(10).show()"
      ],
      "metadata": {
        "colab": {
          "base_uri": "https://localhost:8080/"
        },
        "id": "UoNwCidgUpdq",
        "outputId": "5bbf62c3-5f7e-4fe1-c8af-07f4508aa601"
      },
      "execution_count": null,
      "outputs": [
        {
          "output_type": "stream",
          "name": "stdout",
          "text": [
            "+-------+--------------------+\n",
            "|movieId|     recommendations|\n",
            "+-------+--------------------+\n",
            "|     20|[{17, 4.9537897},...|\n",
            "|     40|[{2, 3.940611}, {...|\n",
            "|     10|[{23, 4.1530485},...|\n",
            "|     50|[{12, 3.9121869},...|\n",
            "|     80|[{3, 4.100973}, {...|\n",
            "|     70|[{4, 3.9002895}, ...|\n",
            "|     60|[{25, 3.519311}, ...|\n",
            "|     90|[{12, 5.9330916},...|\n",
            "|     30|[{24, 5.1313796},...|\n",
            "|      0|[{0, 3.4648867}, ...|\n",
            "|     31|[{21, 3.9330428},...|\n",
            "|     81|[{28, 5.036371}, ...|\n",
            "|     91|[{12, 3.3515444},...|\n",
            "|      1|[{11, 3.273325}, ...|\n",
            "|     41|[{8, 4.952047}, {...|\n",
            "|     61|[{18, 2.424725}, ...|\n",
            "|     51|[{26, 5.8584294},...|\n",
            "|     21|[{26, 2.96658}, {...|\n",
            "|     11|[{2, 2.352095}, {...|\n",
            "|     71|[{25, 3.5633023},...|\n",
            "+-------+--------------------+\n",
            "only showing top 20 rows\n",
            "\n"
          ]
        }
      ]
    },
    {
      "cell_type": "code",
      "source": [
        "# Generate top 10 movie recommendations for a specified set of users\n",
        "users = ratings.select(als.getUserCol()).distinct().limit(3)\n",
        "userSubsetRecs = model.recommendForUserSubset(users, 10).show()"
      ],
      "metadata": {
        "colab": {
          "base_uri": "https://localhost:8080/"
        },
        "id": "51PtlDWFVLf8",
        "outputId": "abb7d165-c7fe-4973-ace1-746057f87741"
      },
      "execution_count": null,
      "outputs": [
        {
          "output_type": "stream",
          "name": "stdout",
          "text": [
            "+------+--------------------+\n",
            "|userId|     recommendations|\n",
            "+------+--------------------+\n",
            "|    26|[{51, 5.8584294},...|\n",
            "|    19|[{51, 4.2897463},...|\n",
            "|    29|[{46, 5.0582056},...|\n",
            "+------+--------------------+\n",
            "\n"
          ]
        }
      ]
    },
    {
      "cell_type": "code",
      "source": [
        "# Generate top 10 user recommendations for a specified set of movies\n",
        "movies = ratings.select(als.getItemCol()).distinct().limit(3)\n",
        "movieSubSetRecs = model.recommendForItemSubset(movies, 10).show()"
      ],
      "metadata": {
        "colab": {
          "base_uri": "https://localhost:8080/"
        },
        "id": "IAO1ec-6VRdJ",
        "outputId": "d516fe78-a1b4-4f9e-afca-0abbfbfe37eb"
      },
      "execution_count": null,
      "outputs": [
        {
          "output_type": "stream",
          "name": "stdout",
          "text": [
            "+-------+--------------------+\n",
            "|movieId|     recommendations|\n",
            "+-------+--------------------+\n",
            "|     65|[{11, 2.4886363},...|\n",
            "|     26|[{0, 3.0141833}, ...|\n",
            "|     29|[{14, 5.134136}, ...|\n",
            "+-------+--------------------+\n",
            "\n"
          ]
        }
      ]
    },
    {
      "cell_type": "markdown",
      "source": [
        "**Conclusion**\n",
        "\n",
        "To conclude which models performs better, according to the model with lower RMSE.\n",
        "\n",
        "For example, you can try \n",
        "\n",
        "maxIter = 5 | regParam = 0.1 the RMSE = 1.9583525038890754\n",
        "\n",
        "maxIter = 10 | regParam = 0.5 the RMSE = 1.26794427489228\n",
        "\n",
        "maxIter = 20 | regParam = 1.0 the RMSE = 1.0239071747072548\n",
        "\n",
        "The model with the better performance according to the RMSE is the model with 20 maxIter and 1.0 regParam.\n"
      ],
      "metadata": {
        "id": "6gFOAFpTVZsV"
      }
    }
  ]
}